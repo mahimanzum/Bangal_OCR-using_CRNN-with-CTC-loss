{
 "cells": [
  {
   "cell_type": "code",
   "execution_count": null,
   "metadata": {
    "colab": {
     "base_uri": "https://localhost:8080/",
     "height": 224
    },
    "colab_type": "code",
    "executionInfo": {
     "elapsed": 72400,
     "status": "ok",
     "timestamp": 1564545488472,
     "user": {
      "displayName": "Mahim Anzum Haque pantho",
      "photoUrl": "https://lh4.googleusercontent.com/-t-OANPV3UrY/AAAAAAAAAAI/AAAAAAAAJW8/eEwnrZoH7dM/s64/photo.jpg",
      "userId": "07659887497514272211"
     },
     "user_tz": -360
    },
    "id": "jUEE3LJ45J0h",
    "outputId": "d035b0a9-c5a5-401a-e508-7ba0e5902404"
   },
   "outputs": [],
   "source": [
    "#Block 1 server setup \n",
    "!apt-get install -y -qq software-properties-common python-software-properties module-init-tools\n",
    "!add-apt-repository -y ppa:alessandro-strada/ppa 2>&1 > /dev/null\n",
    "!apt-get update -qq 2>&1 > /dev/null\n",
    "!apt-get -y install -qq google-drive-ocamlfuse fuse\n",
    "from google.colab import auth\n",
    "auth.authenticate_user()\n",
    "from oauth2client.client import GoogleCredentials\n",
    "creds = GoogleCredentials.get_application_default()\n",
    "import getpass\n",
    "!google-drive-ocamlfuse -headless -id={creds.client_id} -secret={creds.client_secret} < /dev/null 2>&1 | grep URL\n",
    "vcode = getpass.getpass()\n",
    "!echo {vcode} | google-drive-ocamlfuse -headless -id={creds.client_id} -secret={creds.client_secret}"
   ]
  },
  {
   "cell_type": "code",
   "execution_count": null,
   "metadata": {
    "colab": {},
    "colab_type": "code",
    "id": "okDrJp5-5YJG"
   },
   "outputs": [],
   "source": [
    "#Block 2 sync colabserver with drive\n",
    "!mkdir -p drive\n",
    "!google-drive-ocamlfuse drive\n"
   ]
  },
  {
   "cell_type": "code",
   "execution_count": null,
   "metadata": {
    "colab": {
     "base_uri": "https://localhost:8080/",
     "height": 697
    },
    "colab_type": "code",
    "executionInfo": {
     "elapsed": 17243,
     "status": "ok",
     "timestamp": 1564545518842,
     "user": {
      "displayName": "Mahim Anzum Haque pantho",
      "photoUrl": "https://lh4.googleusercontent.com/-t-OANPV3UrY/AAAAAAAAAAI/AAAAAAAAJW8/eEwnrZoH7dM/s64/photo.jpg",
      "userId": "07659887497514272211"
     },
     "user_tz": -360
    },
    "id": "XxnESL47546e",
    "outputId": "ebbaf82a-c6ea-4096-fae5-6c6fd0246685"
   },
   "outputs": [],
   "source": [
    "!pip install -q cairocffi editdistance\n",
    "!apt install -q libcairo2-dev"
   ]
  },
  {
   "cell_type": "code",
   "execution_count": null,
   "metadata": {
    "colab": {
     "base_uri": "https://localhost:8080/",
     "height": 153
    },
    "colab_type": "code",
    "executionInfo": {
     "elapsed": 9273,
     "status": "ok",
     "timestamp": 1564545529204,
     "user": {
      "displayName": "Mahim Anzum Haque pantho",
      "photoUrl": "https://lh4.googleusercontent.com/-t-OANPV3UrY/AAAAAAAAAAI/AAAAAAAAJW8/eEwnrZoH7dM/s64/photo.jpg",
      "userId": "07659887497514272211"
     },
     "user_tz": -360
    },
    "id": "0tA5-0dD5q48",
    "outputId": "36a4a269-d3af-4732-e5e5-3092f0643910"
   },
   "outputs": [],
   "source": [
    "!apt install -q graphviz\n",
    "!pip install -q pydot\n",
    "!pip install -q matplotlib graphviz pydot"
   ]
  },
  {
   "cell_type": "code",
   "execution_count": 1,
   "metadata": {
    "colab": {},
    "colab_type": "code",
    "id": "BhO3Djbm5ua4"
   },
   "outputs": [
    {
     "name": "stderr",
     "output_type": "stream",
     "text": [
      "Using TensorFlow backend.\n"
     ]
    }
   ],
   "source": [
    "import os\n",
    "import itertools\n",
    "import codecs\n",
    "import re\n",
    "import datetime\n",
    "import cairocffi as cairo\n",
    "import editdistance\n",
    "import numpy as np\n",
    "from scipy import ndimage\n",
    "import pickle\n",
    "import cv2\n",
    "from PIL import Image, ImageDraw, ImageFont\n",
    "import PIL.ImageOps \n",
    "\n",
    "\n",
    "# import pylab\n",
    "import matplotlib.pyplot as plt\n",
    "from keras import backend as K\n",
    "from keras.layers.convolutional import Conv2D, MaxPooling2D\n",
    "from keras.layers import Input, Dense, Activation\n",
    "from keras.layers import Reshape, Lambda\n",
    "from keras.layers.merge import add, concatenate\n",
    "from keras.models import Model\n",
    "from keras.layers.recurrent import GRU\n",
    "from keras.optimizers import SGD\n",
    "from keras.utils.data_utils import get_file\n",
    "from keras.preprocessing import image\n",
    "import keras.callbacks"
   ]
  },
  {
   "cell_type": "code",
   "execution_count": 2,
   "metadata": {
    "colab": {
     "base_uri": "https://localhost:8080/",
     "height": 34
    },
    "colab_type": "code",
    "executionInfo": {
     "elapsed": 1249,
     "status": "ok",
     "timestamp": 1564563921982,
     "user": {
      "displayName": "Mahim Anzum Haque pantho",
      "photoUrl": "https://lh4.googleusercontent.com/-t-OANPV3UrY/AAAAAAAAAAI/AAAAAAAAJW8/eEwnrZoH7dM/s64/photo.jpg",
      "userId": "07659887497514272211"
     },
     "user_tz": -360
    },
    "id": "td9frBqM6EsX",
    "outputId": "5713f5f9-29c2-48d0-ce4b-15b32e492e5d"
   },
   "outputs": [
    {
     "name": "stdout",
     "output_type": "stream",
     "text": [
      "abcdefghijklmnopqrstuvwxyz \n"
     ]
    }
   ],
   "source": [
    "OUTPUT_DIR = 'image_ocr'\n",
    "\n",
    "# character classes and matching regex filter\n",
    "regex = r'^[a-z ]+$'\n",
    "alphabet = u'abcdefghijklmnopqrstuvwxyz '\n",
    "print(alphabet)\n",
    "np.random.seed(55)\n",
    "\n",
    "BASE = 'data gen/'"
   ]
  },
  {
   "cell_type": "code",
   "execution_count": null,
   "metadata": {
    "colab": {
     "base_uri": "https://localhost:8080/",
     "height": 54
    },
    "colab_type": "code",
    "executionInfo": {
     "elapsed": 1912,
     "status": "ok",
     "timestamp": 1564563924605,
     "user": {
      "displayName": "Mahim Anzum Haque pantho",
      "photoUrl": "https://lh4.googleusercontent.com/-t-OANPV3UrY/AAAAAAAAAAI/AAAAAAAAJW8/eEwnrZoH7dM/s64/photo.jpg",
      "userId": "07659887497514272211"
     },
     "user_tz": -360
    },
    "id": "nBs_uiUl6JCl",
    "outputId": "eabb2ada-d333-462d-d657-0ddc08d3740b"
   },
   "outputs": [],
   "source": [
    "\n",
    "# this creates larger \"blotches\" of noise which look\n",
    "# more realistic than just adding gaussian noise\n",
    "# assumes greyscale with pixels ranging from 0 to 1\n",
    "def speckle(img):\n",
    "    severity = np.random.uniform(0, 0.6)\n",
    "    blur = ndimage.gaussian_filter(np.random.randn(*img.shape) * severity, 1)\n",
    "    img_speck = (img + blur)\n",
    "    img_speck[img_speck > 1] = 1\n",
    "    img_speck[img_speck <= 0] = 0\n",
    "    return img_speck\n",
    "\n",
    "\n",
    "# paints the string in a random location the bounding box\n",
    "# also uses a random font, a slight random rotation,\n",
    "# and a random amount of speckle noise\n",
    "\n",
    "\n",
    "#if you just change the paint function with the propper inputs everything else should work just fine  \n",
    "'''\n",
    "def paint_text(text, w, h, rotate=False, ud=False, multi_fonts=False):\n",
    "    surface = cairo.ImageSurface(cairo.FORMAT_RGB24, w, h)\n",
    "    with cairo.Context(surface) as context:\n",
    "        context.set_source_rgb(1, 1, 1)  # White\n",
    "        context.paint()\n",
    "        # this font list works in CentOS 7\n",
    "        if multi_fonts:\n",
    "            fonts = ['Century Schoolbook', 'Courier', 'STIX', 'URW Chancery L', 'FreeMono']\n",
    "            context.select_font_face(np.random.choice(fonts), cairo.FONT_SLANT_NORMAL,\n",
    "                                     np.random.choice([cairo.FONT_WEIGHT_BOLD, cairo.FONT_WEIGHT_NORMAL]))\n",
    "        else:\n",
    "            context.select_font_face('Courier', cairo.FONT_SLANT_NORMAL, cairo.FONT_WEIGHT_BOLD)\n",
    "        context.set_font_size(25)\n",
    "        box = context.text_extents(text)\n",
    "        border_w_h = (4, 4)\n",
    "        if box[2] > (w - 2 * border_w_h[1]) or box[3] > (h - 2 * border_w_h[0]):\n",
    "            raise IOError('Could not fit string into image. Max char count is too large for given image width.')\n",
    "\n",
    "        # teach the RNN translational invariance by\n",
    "        # fitting text box randomly on canvas, with some room to rotate\n",
    "        max_shift_x = w - box[2] - border_w_h[0]\n",
    "        max_shift_y = h - box[3] - border_w_h[1]\n",
    "        top_left_x = np.random.randint(0, int(max_shift_x))\n",
    "        if ud:\n",
    "            top_left_y = np.random.randint(0, int(max_shift_y))\n",
    "        else:\n",
    "            top_left_y = h // 2\n",
    "        context.move_to(top_left_x - int(box[0]), top_left_y - int(box[1]))\n",
    "        context.set_source_rgb(0, 0, 0)\n",
    "        context.show_text(text)\n",
    "\n",
    "    buf = surface.get_data()\n",
    "    a = np.frombuffer(buf, np.uint8)\n",
    "    a.shape = (h, w, 4)\n",
    "    a = a[:, :, 0]  # grab single channel\n",
    "    a = a.astype(np.float32) / 255\n",
    "    a = np.expand_dims(a, 0)\n",
    "    if rotate:\n",
    "        a = image.random_rotation(a, 3 * (w - top_left_x) / w + 1)\n",
    "    a = speckle(a)\n",
    "\n",
    "    return a\n",
    "'''\n",
    "fonts = ImageFont.truetype(BASE+'SutonnyOMJ.ttf',20, layout_engine=ImageFont.LAYOUT_RAQM)\n",
    "def paint_text(text, w, h, rotate=False, ud=False, multi_fonts=False):\n",
    "    im = Image.new(\"RGB\",(w,h))\n",
    "    draw = ImageDraw.Draw(im)\n",
    "    draw.text((10, 10), text, font=fonts)\n",
    "    inverted_image = PIL.ImageOps.invert(im)\n",
    "    inverted_image = inverted_image.convert('RGB') \n",
    "    open_cv_image = np.array(inverted_image) \n",
    "    open_cv_image = open_cv_image[:, :, ::-1].copy()\n",
    "    a = cv2.cvtColor(open_cv_image, cv2.COLOR_BGR2GRAY)\n",
    "    #print(a.shape)# has to be (64, 128)\n",
    "    a = a.astype(np.float32) / 255\n",
    "    a = np.expand_dims(a, 0)\n",
    "    if rotate:\n",
    "        a = image.random_rotation(a, 3 * (w - np.random.randint(0, 10)) / w + 1)\n",
    "    a = speckle(a)\n",
    "    return a\n",
    "\n",
    "h = 64\n",
    "w = 128\n",
    "a = paint_text('ন্দ্যুচ্যেদ্র্যুল্বাপ্র্যী',h = h, w = w)\n",
    "print(a.shape)\n",
    "b = a.reshape((h, w))\n",
    "#print(b.shape)\n",
    "plt.imshow(b, cmap='Greys_r')\n",
    "plt.show()\n",
    "\n",
    "\n",
    "def shuffle_mats_or_lists(matrix_list, stop_ind=None):\n",
    "    ret = []\n",
    "    assert all([len(i) == len(matrix_list[0]) for i in matrix_list])\n",
    "    len_val = len(matrix_list[0])\n",
    "    if stop_ind is None:\n",
    "        stop_ind = len_val\n",
    "    assert stop_ind <= len_val\n",
    "\n",
    "    a = list(range(stop_ind))\n",
    "    np.random.shuffle(a)\n",
    "    a += list(range(stop_ind, len_val))\n",
    "    for mat in matrix_list:\n",
    "        if isinstance(mat, np.ndarray):\n",
    "            ret.append(mat[a])\n",
    "        elif isinstance(mat, list):\n",
    "            ret.append([mat[i] for i in a])\n",
    "        else:\n",
    "            raise TypeError('`shuffle_mats_or_lists` only supports '\n",
    "                            'numpy.array and list objects.')\n",
    "    return ret\n",
    "\n",
    "\n",
    "# Translation of characters to unique integer values\n",
    "#need to change here for bangla encoding\n",
    "def load_obj(name):\n",
    "    with open(BASE+name + '.pkl', 'rb') as f:\n",
    "        return pickle.load(f)\n",
    "BCC_map = load_obj(\"BCC_map\")\n",
    "rBCC_map = load_obj(\"rBCC_map\")\n",
    "\n",
    "print(len(BCC_map.keys()))\n",
    "\n",
    "def labels_to_text(labels):\n",
    "    ret = []\n",
    "    #print(\"labels_to_text\")\n",
    "    for c in labels:\n",
    "        if c == len(BCC_map.keys()):  # CTC Blank\n",
    "            ret.append(\"\")\n",
    "        else:\n",
    "            ret.append(BCC_map[c])\n",
    "    return \"\".join(ret)\n",
    "\n",
    "def text_to_labels(text):\n",
    "    #print(\"dcd\")\n",
    "    i = 0\n",
    "    j = 0\n",
    "    far = 9\n",
    "    out  = []\n",
    "    while(i<len(text)):\n",
    "        #print(i)\n",
    "        j = min(i+far, len(text))\n",
    "        found = True\n",
    "        while(text[i:j] not in rBCC_map):\n",
    "            #print('j = ', j)\n",
    "            #print(text[i:j])\n",
    "            #print(i, \" \", j)\n",
    "            j-=1\n",
    "            if(j == i):\n",
    "                i = i+1\n",
    "                #print('comes inside, i = ', str(i))\n",
    "                found = False\n",
    "                break\n",
    "        if found:\n",
    "            out.append(rBCC_map[text[i:j]])\n",
    "            i = j\n",
    "        #print(out)  \n",
    "    return out\n",
    "#print(actual)\n",
    "  \n",
    "  \n",
    "'''\n",
    "def text_to_labels(text):\n",
    "    ret = []\n",
    "    for char in text:\n",
    "        ret.append(alphabet.find(char))\n",
    "    return ret\n",
    "\n",
    "\n",
    "# Reverse translation of numerical classes back to characters\n",
    "def labels_to_text(labels):\n",
    "    ret = []\n",
    "    for c in labels:\n",
    "        if c == len(alphabet):  # CTC Blank\n",
    "            ret.append(\"\")\n",
    "        else:\n",
    "            ret.append(alphabet[c])\n",
    "    return \"\".join(ret)\n",
    "\n",
    "\n",
    "# only a-z and space..probably not to difficult\n",
    "# to expand to uppercase and symbols\n",
    "\n",
    "def is_valid_str(in_str):\n",
    "    search = re.compile(regex, re.UNICODE).search\n",
    "    return bool(search(in_str))\n",
    "'''"
   ]
  },
  {
   "cell_type": "code",
   "execution_count": null,
   "metadata": {
    "colab": {},
    "colab_type": "code",
    "id": "h2SlI26H6Tsx"
   },
   "outputs": [],
   "source": [
    "\n",
    "# Uses generator functions to supply train/test with\n",
    "# data. Image renderings are text are created on the fly\n",
    "# each time with random perturbations\n",
    "\n",
    "class TextImageGenerator(keras.callbacks.Callback):\n",
    "\n",
    "    def __init__(self, monogram_file, bigram_file, minibatch_size,\n",
    "                 img_w, img_h, downsample_factor, val_split,\n",
    "                 absolute_max_string_len=100):\n",
    "\n",
    "        self.minibatch_size = minibatch_size\n",
    "        self.img_w = img_w\n",
    "        self.img_h = img_h\n",
    "        self.monogram_file = monogram_file\n",
    "        self.bigram_file = bigram_file\n",
    "        self.downsample_factor = downsample_factor\n",
    "        self.val_split = val_split\n",
    "        self.blank_label = self.get_output_size() - 1\n",
    "        self.absolute_max_string_len = absolute_max_string_len\n",
    "\n",
    "    def get_output_size(self):\n",
    "        return len(BCC_map.keys()) + 1\n",
    "\n",
    "    # num_words can be independent of the epoch size due to the use of generators\n",
    "    # as max_string_len grows, num_words can grow\n",
    "    def build_word_list(self, num_words, max_string_len=None, mono_fraction=0.5):\n",
    "        assert max_string_len <= self.absolute_max_string_len\n",
    "        assert num_words % self.minibatch_size == 0\n",
    "        #assert (self.val_split * num_words) % self.minibatch_size == 0\n",
    "        print(\"build_word_list\")\n",
    "        self.num_words = num_words\n",
    "        self.string_list = [''] * self.num_words\n",
    "        tmp_string_list = []\n",
    "        self.max_string_len = max_string_len\n",
    "        self.Y_data = np.ones([self.num_words, self.absolute_max_string_len]) * -1\n",
    "        self.X_text = []\n",
    "        self.Y_len = [0] * self.num_words\n",
    "        print(\"build_word_list monogram started\")\n",
    "        # monogram file is sorted by frequency in english speech\n",
    "        with codecs.open(self.monogram_file, mode='r', encoding='utf-8') as f:\n",
    "            for line in f:\n",
    "                #print(\"len(tmp_string_list) = \" + str(len(tmp_string_list)), \" int(self.num_words * mono_fraction) = \" + str(int(self.num_words * mono_fraction)) )\n",
    "                #print('mono fraction = ', str(mono_fraction) + \" line \" + str(line))\n",
    "                if len(tmp_string_list) == int(self.num_words * mono_fraction):\n",
    "                    break\n",
    "                word = line.rstrip()\n",
    "                #print(len(text_to_labels(word)), \" \",max_string_len)\n",
    "                \n",
    "                if max_string_len == -1 or max_string_len is None or len(text_to_labels(word)) <= max_string_len:\n",
    "                    tmp_string_list.append(word)\n",
    "                    #print(word)\n",
    "                    #print(\"comes inside \")\n",
    "                #print(\"for one line loop ends\")\n",
    "\n",
    "        # bigram file contains common word pairings in english speech\n",
    "        print(\"build_word_list after monogram end and bigram start\")\n",
    "        with codecs.open(self.bigram_file, mode='r', encoding='utf-8') as f:\n",
    "            lines = f.readlines()\n",
    "            for line in lines:\n",
    "                if len(tmp_string_list) == self.num_words:\n",
    "                    break\n",
    "                columns = line.lower().split()\n",
    "                word = columns[0] + ' ' + columns[1]\n",
    "                if (max_string_len == -1 or max_string_len is None or len(text_to_labels(word)) <= max_string_len):\n",
    "                    tmp_string_list.append(word)\n",
    "        if len(tmp_string_list) != self.num_words:\n",
    "            raise IOError('Could not pull enough words from supplied monogram and bigram files. ' + \"len(tmp_string_list) = \" + str(len(tmp_string_list)) + \" self.num_words\"+ str( self.num_words))\n",
    "        # interlace to mix up the easy and hard words\n",
    "        self.string_list[::2] = tmp_string_list[:self.num_words // 2]\n",
    "        self.string_list[1::2] = tmp_string_list[self.num_words // 2:]\n",
    "        print(\"build_word_list after bi gram ending\")\n",
    "        for i, word in enumerate(self.string_list):\n",
    "            #print(self.Y_data[i, 0:len(word)])\n",
    "            #print(text_to_labels(word))\n",
    "            \n",
    "            self.Y_len[i] = len(text_to_labels(word))\n",
    "            self.Y_data[i, 0:len(text_to_labels(word))] = text_to_labels(word)\n",
    "            \n",
    "            \n",
    "            self.X_text.append(word)\n",
    "        self.Y_len = np.expand_dims(np.array(self.Y_len), 1)\n",
    "\n",
    "        self.cur_val_index = self.val_split\n",
    "        self.cur_train_index = 0\n",
    "\n",
    "    # each time an image is requested from train/val/test, a new random\n",
    "    # painting of the text is performed\n",
    "    def get_batch(self, index, size, train):\n",
    "        #print(\"get_batch\")\n",
    "        # width and height are backwards from typical Keras convention\n",
    "        # because width is the time dimension when it gets fed into the RNN\n",
    "        if K.image_data_format() == 'channels_first':\n",
    "            X_data = np.ones([size, 1, self.img_w, self.img_h])\n",
    "        else:\n",
    "            X_data = np.ones([size, self.img_w, self.img_h, 1])\n",
    "\n",
    "        labels = np.ones([size, self.absolute_max_string_len])\n",
    "        input_length = np.zeros([size, 1])\n",
    "        label_length = np.zeros([size, 1])\n",
    "        source_str = []\n",
    "        for i in range(size):\n",
    "            # Mix in some blank inputs.  This seems to be important for\n",
    "            # achieving translational invariance\n",
    "            if train and i > size - 4:\n",
    "                if K.image_data_format() == 'channels_first':\n",
    "                    X_data[i, 0, 0:self.img_w, :] = self.paint_func('')[0, :, :].T\n",
    "                else:\n",
    "                    X_data[i, 0:self.img_w, :, 0] = self.paint_func('',)[0, :, :].T\n",
    "                labels[i, 0] = self.blank_label\n",
    "                input_length[i] = self.img_w // self.downsample_factor - 2\n",
    "                label_length[i] = 1\n",
    "                source_str.append('')\n",
    "            else:\n",
    "                if K.image_data_format() == 'channels_first':\n",
    "                    X_data[i, 0, 0:self.img_w, :] = self.paint_func(self.X_text[index + i])[0, :, :].T\n",
    "                else:\n",
    "                    X_data[i, 0:self.img_w, :, 0] = self.paint_func(self.X_text[index + i])[0, :, :].T\n",
    "                labels[i, :] = self.Y_data[index + i]\n",
    "                input_length[i] = self.img_w // self.downsample_factor - 2\n",
    "                label_length[i] = self.Y_len[index + i]\n",
    "                source_str.append(self.X_text[index + i])\n",
    "        inputs = {'the_input': X_data,\n",
    "                  'the_labels': labels,\n",
    "                  'input_length': input_length,\n",
    "                  'label_length': label_length,\n",
    "                  'source_str': source_str  # used for visualization only\n",
    "                  }\n",
    "        outputs = {'ctc': np.zeros([size])}  # dummy data for dummy loss function\n",
    "        return (inputs, outputs)\n",
    "\n",
    "    def next_train(self):\n",
    "        print(\"next_train\")\n",
    "        while 1:\n",
    "            ret = self.get_batch(self.cur_train_index, self.minibatch_size, train=True)\n",
    "            self.cur_train_index += self.minibatch_size\n",
    "            #print(self.cur_train_index)\n",
    "            if self.cur_train_index >= self.val_split:\n",
    "                self.cur_train_index = self.cur_train_index % 32\n",
    "                (self.X_text, self.Y_data, self.Y_len) = shuffle_mats_or_lists(\n",
    "                    [self.X_text, self.Y_data, self.Y_len], self.val_split)\n",
    "            yield ret\n",
    "\n",
    "    def next_val(self):\n",
    "        print(\"next_val\")\n",
    "        while 1:\n",
    "            ret = self.get_batch(self.cur_val_index, self.minibatch_size, train=False)\n",
    "            self.cur_val_index += self.minibatch_size\n",
    "            if self.cur_val_index >= self.num_words:\n",
    "                self.cur_val_index = self.val_split + self.cur_val_index % 32\n",
    "            yield ret\n",
    "#https://github.com/keras-team/keras/blob/master/keras/callbacks.py\n",
    "#these are built in functions in callbacks \n",
    "    def on_train_begin(self, logs={}):\n",
    "        print(\"on_train_begin called in TextImageGenerator\")\n",
    "        self.build_word_list(16000, 30, 1)\n",
    "        self.paint_func = lambda text: paint_text(text, self.img_w, self.img_h,\n",
    "                                                  rotate=False, ud=False, multi_fonts=False)\n",
    "\n",
    "    def on_epoch_begin(self, epoch, logs={}):\n",
    "        print(\"on_epoch_begin called in TextImageGenerator\")\n",
    "        # rebind the paint function to implement curriculum learning\n",
    "        if 3 <= epoch < 6:\n",
    "            self.paint_func = lambda text: paint_text(text, self.img_w, self.img_h,\n",
    "                                                      rotate=False, ud=True, multi_fonts=False)\n",
    "        elif 6 <= epoch < 9:\n",
    "            self.paint_func = lambda text: paint_text(text, self.img_w, self.img_h,\n",
    "                                                      rotate=False, ud=True, multi_fonts=True)\n",
    "        elif epoch >= 9:\n",
    "            self.paint_func = lambda text: paint_text(text, self.img_w, self.img_h,\n",
    "                                                      rotate=True, ud=True, multi_fonts=True)\n",
    "        if epoch >= 21: #and self.max_string_len < 12:\n",
    "            self.build_word_list(32000, 70, 0.5)\n"
   ]
  },
  {
   "cell_type": "code",
   "execution_count": null,
   "metadata": {
    "colab": {},
    "colab_type": "code",
    "id": "2ivXO1p66WtD"
   },
   "outputs": [],
   "source": [
    "\n",
    "# the actual loss calc occurs here despite it not being\n",
    "# an internal Keras loss function\n",
    "\n",
    "def ctc_lambda_func(args):\n",
    "    y_pred, labels, input_length, label_length = args\n",
    "    # the 2 is critical here since the first couple outputs of the RNN\n",
    "    # tend to be garbage:\n",
    "    y_pred = y_pred[:, 2:, :]\n",
    "    return K.ctc_batch_cost(labels, y_pred, input_length, label_length)\n",
    "\n",
    "\n",
    "# For a real OCR application, this should be beam search with a dictionary\n",
    "# and language model.  For this example, best path is sufficient.\n",
    "\n",
    "def decode_batch(test_func, word_batch):\n",
    "    out = test_func([word_batch])[0]\n",
    "    ret = []\n",
    "    for j in range(out.shape[0]):\n",
    "        out_best = list(np.argmax(out[j, 2:], 1))\n",
    "        out_best = [k for k, g in itertools.groupby(out_best)]\n",
    "        outstr = labels_to_text(out_best)\n",
    "        ret.append(outstr)\n",
    "    return ret\n"
   ]
  },
  {
   "cell_type": "code",
   "execution_count": null,
   "metadata": {
    "colab": {},
    "colab_type": "code",
    "id": "7JtUG4bD6ZuZ"
   },
   "outputs": [],
   "source": [
    "class VizCallback(keras.callbacks.Callback):\n",
    "\n",
    "    def __init__(self, run_name, test_func, text_img_gen, num_display_words=6):\n",
    "        self.test_func = test_func\n",
    "        self.output_dir = os.path.join(\n",
    "            OUTPUT_DIR, run_name)\n",
    "        self.text_img_gen = text_img_gen\n",
    "        self.num_display_words = num_display_words\n",
    "        if not os.path.exists(self.output_dir):\n",
    "            os.makedirs(self.output_dir)\n",
    "\n",
    "    def show_edit_distance(self, num):\n",
    "        num_left = num\n",
    "        mean_norm_ed = 0.0\n",
    "        mean_ed = 0.0\n",
    "        while num_left > 0:\n",
    "            word_batch = next(self.text_img_gen)[0]\n",
    "            num_proc = min(word_batch['the_input'].shape[0], num_left)\n",
    "            decoded_res = decode_batch(self.test_func, word_batch['the_input'][0:num_proc])\n",
    "            for j in range(num_proc):\n",
    "                edit_dist = editdistance.eval(decoded_res[j], word_batch['source_str'][j])\n",
    "                mean_ed += float(edit_dist)\n",
    "                mean_norm_ed += float(edit_dist) / len(word_batch['source_str'][j])\n",
    "            num_left -= num_proc\n",
    "        mean_norm_ed = mean_norm_ed / num\n",
    "        mean_ed = mean_ed / num\n",
    "        print('\\nOut of %d samples:  Mean edit distance: %.3f Mean normalized edit distance: %0.3f'\n",
    "              % (num, mean_ed, mean_norm_ed))\n",
    "\n",
    "    def on_epoch_end(self, epoch, logs={}):\n",
    "        self.model.save_weights(os.path.join(BASE+'models', 'weights%02d.h5' % (epoch)))\n",
    "        self.show_edit_distance(256)\n",
    "        word_batch = next(self.text_img_gen)[0]\n",
    "        res = decode_batch(self.test_func, word_batch['the_input'][0:self.num_display_words])\n",
    "        if word_batch['the_input'][0].shape[0] < 256:\n",
    "            cols = 2\n",
    "        else:\n",
    "            cols = 1\n",
    "        for i in range(self.num_display_words):\n",
    "            plt.subplot(self.num_display_words // cols, cols, i + 1)\n",
    "            if K.image_data_format() == 'channels_first':\n",
    "                the_input = word_batch['the_input'][i, 0, :, :]\n",
    "            else:\n",
    "                the_input = word_batch['the_input'][i, :, :, 0]\n",
    "            plt.imshow(the_input.T, cmap='Greys_r')\n",
    "            plt.xlabel('Truth = \\'%s\\'\\nDecoded = \\'%s\\'' % (word_batch['source_str'][i], res[i]))\n",
    "        fig = plt.gcf()\n",
    "        fig.set_size_inches(10, 13)\n",
    "        plt.savefig(os.path.join(self.output_dir, 'e%02d.png' % (epoch)))\n",
    "        plt.close()\n"
   ]
  },
  {
   "cell_type": "code",
   "execution_count": null,
   "metadata": {
    "colab": {},
    "colab_type": "code",
    "id": "IusZ_cAx6gnM"
   },
   "outputs": [],
   "source": [
    "\n",
    "def train(run_name, start_epoch, stop_epoch, img_w):\n",
    "    # Input Parameters\n",
    "    img_h = 64\n",
    "    words_per_epoch = 16000\n",
    "    val_split = 0.2\n",
    "    val_words = int(words_per_epoch * (val_split))\n",
    "\n",
    "    # Network parameters\n",
    "    conv_filters = 16\n",
    "    kernel_size = (3, 3)\n",
    "    pool_size = 2\n",
    "    time_dense_size = 32\n",
    "    rnn_size = 512\n",
    "    minibatch_size = 32\n",
    "\n",
    "    if K.image_data_format() == 'channels_first':\n",
    "        input_shape = (1, img_w, img_h)\n",
    "    else:\n",
    "        input_shape = (img_w, img_h, 1)\n",
    "    '''\n",
    "    img_gen = TextImageGenerator(monogram_file=os.path.join(fdir, 'wordlist_mono_clean.txt'),\n",
    "                                 bigram_file=os.path.join(fdir, 'wordlist_bi_clean.txt'),\n",
    "                                 minibatch_size=minibatch_size,\n",
    "                                 img_w=img_w,\n",
    "                                 img_h=img_h,\n",
    "                                 downsample_factor=(pool_size ** 2),\n",
    "                                 val_split=words_per_epoch - val_words\n",
    "                                 )\n",
    "'''\n",
    "    fdir = os.path.dirname(get_file('wordlists.tgz',\n",
    "                                    origin='http://www.mythic-ai.com/datasets/wordlists.tgz', untar=True))\n",
    "    img_gen = TextImageGenerator(monogram_file= BASE+'mono.txt',\n",
    "                                 bigram_file=BASE+'bi.txt',\n",
    "                                 minibatch_size=minibatch_size,\n",
    "                                 img_w=img_w,\n",
    "                                 img_h=img_h,\n",
    "                                 downsample_factor=(pool_size ** 2),\n",
    "                                 val_split=words_per_epoch - val_words\n",
    "                                 )\n",
    "    act = 'relu'\n",
    "    input_data = Input(name='the_input', shape=input_shape, dtype='float32')\n",
    "    inner = Conv2D(conv_filters, kernel_size, padding='same',\n",
    "                   activation=act, kernel_initializer='he_normal',\n",
    "                   name='conv1')(input_data)\n",
    "    inner = MaxPooling2D(pool_size=(pool_size, pool_size), name='max1')(inner)\n",
    "    inner = Conv2D(conv_filters, kernel_size, padding='same',\n",
    "                   activation=act, kernel_initializer='he_normal',\n",
    "                   name='conv2')(inner)\n",
    "    inner = MaxPooling2D(pool_size=(pool_size, pool_size), name='max2')(inner)\n",
    "\n",
    "    conv_to_rnn_dims = (img_w // (pool_size ** 2), (img_h // (pool_size ** 2)) * conv_filters)\n",
    "    #conv_to_rnn_dims = (img_w , (img_h * conv_filters))\n",
    "    inner = Reshape(target_shape=conv_to_rnn_dims, name='reshape')(inner)\n",
    "\n",
    "    # cuts down input size going into RNN:\n",
    "    inner = Dense(time_dense_size, activation=act, name='dense1')(inner)\n",
    "\n",
    "    # Two layers of bidirectional GRUs\n",
    "    # GRU seems to work as well, if not better than LSTM:\n",
    "    gru_1 = GRU(rnn_size, return_sequences=True, kernel_initializer='he_normal', name='gru1')(inner)\n",
    "    gru_1b = GRU(rnn_size, return_sequences=True, go_backwards=True, kernel_initializer='he_normal', name='gru1_b')(inner)\n",
    "    gru1_merged = add([gru_1, gru_1b])\n",
    "    gru_2 = GRU(rnn_size, return_sequences=True, kernel_initializer='he_normal', name='gru2')(gru1_merged)\n",
    "    gru_2b = GRU(rnn_size, return_sequences=True, go_backwards=True, kernel_initializer='he_normal', name='gru2_b')(gru1_merged)\n",
    "\n",
    "    # transforms RNN output to character activations:\n",
    "    inner = Dense(img_gen.get_output_size(), kernel_initializer='he_normal',\n",
    "                  name='dense2')(concatenate([gru_2, gru_2b]))\n",
    "    y_pred = Activation('softmax', name='softmax')(inner)\n",
    "    Model(inputs=input_data, outputs=y_pred).summary()\n",
    "\n",
    "    labels = Input(name='the_labels', shape=[img_gen.absolute_max_string_len], dtype='float32')\n",
    "    input_length = Input(name='input_length', shape=[1], dtype='int64')\n",
    "    label_length = Input(name='label_length', shape=[1], dtype='int64')\n",
    "    # Keras doesn't currently support loss funcs with extra parameters\n",
    "    # so CTC loss is implemented in a lambda layer\n",
    "    loss_out = Lambda(ctc_lambda_func, output_shape=(1,), name='ctc')([y_pred, labels, input_length, label_length])\n",
    "\n",
    "    # clipnorm seems to speeds up convergence\n",
    "    sgd = SGD(lr=0.02, decay=1e-6, momentum=0.9, nesterov=True, clipnorm=5)\n",
    "\n",
    "    model = Model(inputs=[input_data, labels, input_length, label_length], outputs=loss_out)\n",
    "\n",
    "    # the loss calc occurs elsewhere, so use a dummy lambda func for the loss\n",
    "    model.compile(loss={'ctc': lambda y_true, y_pred: y_pred}, optimizer=sgd)\n",
    "    if start_epoch > 0:\n",
    "        weight_file = os.path.join(BASE+'models/', 'weights%02d.h5' % (start_epoch - 1))\n",
    "        model.load_weights(weight_file)\n",
    "    #captures output of softmax so we can decode the output during visualization\n",
    "    test_func = K.function([input_data], [y_pred])\n",
    "\n",
    "    viz_cb = VizCallback(run_name, test_func, img_gen.next_val())\n",
    "    \n",
    "    model.fit_generator(generator=img_gen.next_train(),\n",
    "                        steps_per_epoch=(words_per_epoch - val_words) // minibatch_size,\n",
    "                        epochs=stop_epoch,\n",
    "                        validation_data=img_gen.next_val(),\n",
    "                        validation_steps=val_words // minibatch_size,\n",
    "                        callbacks=[viz_cb, img_gen],\n",
    "                        initial_epoch=start_epoch)\n",
    "    \n",
    "\n"
   ]
  },
  {
   "cell_type": "code",
   "execution_count": null,
   "metadata": {
    "colab": {
     "base_uri": "https://localhost:8080/",
     "height": 1000
    },
    "colab_type": "code",
    "executionInfo": {
     "elapsed": 21718,
     "status": "error",
     "timestamp": 1564568902762,
     "user": {
      "displayName": "Mahim Anzum Haque pantho",
      "photoUrl": "https://lh4.googleusercontent.com/-t-OANPV3UrY/AAAAAAAAAAI/AAAAAAAAJW8/eEwnrZoH7dM/s64/photo.jpg",
      "userId": "07659887497514272211"
     },
     "user_tz": -360
    },
    "id": "kwX0XUvn6rat",
    "outputId": "e8cbf03d-8930-45a7-9d7a-0bc65f4dd209"
   },
   "outputs": [],
   "source": [
    "run_name = datetime.datetime.now().strftime('%Y:%m:%d:%H:%M:%S')\n",
    "train(run_name, 0, 20, 256)\n",
    "# increase to wider images and start at epoch 20. The learned weights are reloaded\n",
    "#train(run_name, 20, 25, 512)"
   ]
  },
  {
   "cell_type": "code",
   "execution_count": null,
   "metadata": {
    "colab": {
     "base_uri": "https://localhost:8080/",
     "height": 309
    },
    "colab_type": "code",
    "executionInfo": {
     "elapsed": 9191,
     "status": "ok",
     "timestamp": 1564545571630,
     "user": {
      "displayName": "Mahim Anzum Haque pantho",
      "photoUrl": "https://lh4.googleusercontent.com/-t-OANPV3UrY/AAAAAAAAAAI/AAAAAAAAJW8/eEwnrZoH7dM/s64/photo.jpg",
      "userId": "07659887497514272211"
     },
     "user_tz": -360
    },
    "id": "cFoYcBVy6zga",
    "outputId": "78a32312-50cd-4d91-902c-e9358a0093d3"
   },
   "outputs": [],
   "source": [
    "|!wget https://github.com/Tony607/keras-image-ocr/releases/download/V0.1/weights24.h5"
   ]
  },
  {
   "cell_type": "code",
   "execution_count": null,
   "metadata": {
    "colab": {
     "base_uri": "https://localhost:8080/",
     "height": 1000
    },
    "colab_type": "code",
    "executionInfo": {
     "elapsed": 9063,
     "status": "ok",
     "timestamp": 1564545606093,
     "user": {
      "displayName": "Mahim Anzum Haque pantho",
      "photoUrl": "https://lh4.googleusercontent.com/-t-OANPV3UrY/AAAAAAAAAAI/AAAAAAAAJW8/eEwnrZoH7dM/s64/photo.jpg",
      "userId": "07659887497514272211"
     },
     "user_tz": -360
    },
    "id": "AigNGQQET1ic",
    "outputId": "96198262-f89b-4c61-ae40-6bc3821d89d1"
   },
   "outputs": [],
   "source": [
    "weight_file = BASE+\"models\"+'/weights21.h5'\n",
    "img_w = 128\n",
    "# Input Parameters\n",
    "img_h = 64\n",
    "words_per_epoch = 16000\n",
    "val_split = 0.2\n",
    "val_words = int(words_per_epoch * (val_split))\n",
    "\n",
    "# Network parameters\n",
    "conv_filters = 16\n",
    "kernel_size = (3, 3)\n",
    "pool_size = 2\n",
    "time_dense_size = 100\n",
    "rnn_size = 512\n",
    "minibatch_size = 32\n",
    "\n",
    "if K.image_data_format() == 'channels_first':\n",
    "    input_shape = (1, img_w, img_h)\n",
    "else:\n",
    "    input_shape = (img_w, img_h, 1)\n",
    "\n",
    "fdir = os.path.dirname(get_file('wordlists.tgz',\n",
    "                                origin='http://www.mythic-ai.com/datasets/wordlists.tgz', untar=True))\n",
    "\n",
    "img_gen = TextImageGenerator(monogram_file=os.path.join(fdir, 'wordlist_mono_clean.txt'),\n",
    "                             bigram_file=os.path.join(fdir, 'wordlist_bi_clean.txt'),\n",
    "                             minibatch_size=minibatch_size,\n",
    "                             img_w=img_w,\n",
    "                             img_h=img_h,\n",
    "                             downsample_factor=(pool_size ** 2),\n",
    "                             val_split=words_per_epoch - val_words\n",
    "                             )\n",
    "act = 'relu'\n",
    "input_data = Input(name='the_input', shape=input_shape, dtype='float32')\n",
    "inner = Conv2D(conv_filters, kernel_size, padding='same',\n",
    "               activation=act, kernel_initializer='he_normal',\n",
    "               name='conv1')(input_data)\n",
    "inner = MaxPooling2D(pool_size=(pool_size, pool_size), name='max1')(inner)\n",
    "inner = Conv2D(conv_filters, kernel_size, padding='same',\n",
    "               activation=act, kernel_initializer='he_normal',\n",
    "               name='conv2')(inner)\n",
    "inner = MaxPooling2D(pool_size=(pool_size, pool_size), name='max2')(inner)\n",
    "\n",
    "conv_to_rnn_dims = (img_w // (pool_size ** 2), (img_h // (pool_size ** 2)) * conv_filters)\n",
    "inner = Reshape(target_shape=conv_to_rnn_dims, name='reshape')(inner)\n",
    "\n",
    "# cuts down input size going into RNN:\n",
    "inner = Dense(time_dense_size, activation=act, name='dense1')(inner)\n",
    "\n",
    "# Two layers of bidirectional GRUs\n",
    "# GRU seems to work as well, if not better than LSTM:\n",
    "gru_1 = GRU(rnn_size, return_sequences=True, kernel_initializer='he_normal', name='gru1')(inner)\n",
    "gru_1b = GRU(rnn_size, return_sequences=True, go_backwards=True, kernel_initializer='he_normal', name='gru1_b')(inner)\n",
    "gru1_merged = add([gru_1, gru_1b])\n",
    "gru_2 = GRU(rnn_size, return_sequences=True, kernel_initializer='he_normal', name='gru2')(gru1_merged)\n",
    "gru_2b = GRU(rnn_size, return_sequences=True, go_backwards=True, kernel_initializer='he_normal', name='gru2_b')(gru1_merged)\n",
    "\n",
    "# transforms RNN output to character activations:\n",
    "inner = Dense(img_gen.get_output_size(), kernel_initializer='he_normal',\n",
    "              name='dense2')(concatenate([gru_2, gru_2b]))\n",
    "y_pred = Activation('softmax', name='softmax')(inner)\n",
    "Model(inputs=input_data, outputs=y_pred).summary()\n",
    "\n",
    "labels = Input(name='the_labels', shape=[img_gen.absolute_max_string_len], dtype='float32')\n",
    "input_length = Input(name='input_length', shape=[1], dtype='int64')\n",
    "label_length = Input(name='label_length', shape=[1], dtype='int64')\n",
    "# Keras doesn't currently support loss funcs with extra parameters\n",
    "# so CTC loss is implemented in a lambda layer\n",
    "loss_out = Lambda(ctc_lambda_func, output_shape=(1,), name='ctc')([y_pred, labels, input_length, label_length])\n",
    "\n",
    "# clipnorm seems to speeds up convergence\n",
    "sgd = SGD(lr=0.02, decay=1e-6, momentum=0.9, nesterov=True, clipnorm=5)\n",
    "\n",
    "model = Model(inputs=[input_data, labels, input_length, label_length], outputs=loss_out)\n",
    "\n",
    "# the loss calc occurs elsewhere, so use a dummy lambda func for the loss\n",
    "model.compile(loss={'ctc': lambda y_true, y_pred: y_pred}, optimizer=sgd)\n",
    "model.load_weights(weight_file)\n",
    "# captures output of softmax so we can decode the output during visualization\n",
    "test_func = K.function([input_data], [y_pred])\n"
   ]
  },
  {
   "cell_type": "code",
   "execution_count": null,
   "metadata": {
    "colab": {
     "base_uri": "https://localhost:8080/",
     "height": 1000
    },
    "colab_type": "code",
    "executionInfo": {
     "elapsed": 3926,
     "status": "ok",
     "timestamp": 1564545615700,
     "user": {
      "displayName": "Mahim Anzum Haque pantho",
      "photoUrl": "https://lh4.googleusercontent.com/-t-OANPV3UrY/AAAAAAAAAAI/AAAAAAAAJW8/eEwnrZoH7dM/s64/photo.jpg",
      "userId": "07659887497514272211"
     },
     "user_tz": -360
    },
    "id": "zI-inKsqT3aP",
    "outputId": "601b6b96-d4b9-4b8f-a9dd-9e5617f9bbd6"
   },
   "outputs": [],
   "source": [
    "from keras.utils import plot_model\n",
    "plot_model(model, to_file='model.png', show_shapes=True)\n",
    "from IPython.display import Image\n",
    "Image(filename='model.png')"
   ]
  },
  {
   "cell_type": "code",
   "execution_count": null,
   "metadata": {
    "colab": {},
    "colab_type": "code",
    "id": "414WVPKMT7s2"
   },
   "outputs": [],
   "source": [
    "model_p = Model(inputs=input_data, outputs=y_pred)"
   ]
  },
  {
   "cell_type": "code",
   "execution_count": null,
   "metadata": {
    "colab": {},
    "colab_type": "code",
    "id": "-6s1vJm-T-03"
   },
   "outputs": [],
   "source": [
    "def decode_predict_ctc(out, top_paths = 1):\n",
    "    results = []\n",
    "    beam_width = 5\n",
    "    if beam_width < top_paths:\n",
    "        beam_width = top_paths\n",
    "    for i in range(top_paths):\n",
    "        lables = K.get_value(K.ctc_decode(out, input_length=np.ones(out.shape[0])*out.shape[1],\n",
    "                           greedy=False, beam_width=beam_width, top_paths=top_paths)[0][i])[0]\n",
    "        text = labels_to_text(lables)\n",
    "        print(text)\n",
    "        results.append(text)\n",
    "    return results\n",
    "  \n",
    "def predit_a_image(a, top_paths = 1):\n",
    "    c = np.expand_dims(a.T, axis=0)\n",
    "    net_out_value = model_p.predict(c)\n",
    "    top_pred_texts = decode_predict_ctc(net_out_value, top_paths)\n",
    "    return top_pred_texts\n",
    "\n"
   ]
  },
  {
   "cell_type": "code",
   "execution_count": null,
   "metadata": {
    "colab": {
     "base_uri": "https://localhost:8080/",
     "height": 85
    },
    "colab_type": "code",
    "executionInfo": {
     "elapsed": 4200,
     "status": "ok",
     "timestamp": 1564546026456,
     "user": {
      "displayName": "Mahim Anzum Haque pantho",
      "photoUrl": "https://lh4.googleusercontent.com/-t-OANPV3UrY/AAAAAAAAAAI/AAAAAAAAJW8/eEwnrZoH7dM/s64/photo.jpg",
      "userId": "07659887497514272211"
     },
     "user_tz": -360
    },
    "id": "VrduBBbrMG5P",
    "outputId": "fdfb4362-05d2-49c6-83c9-d69c7e7597d5"
   },
   "outputs": [],
   "source": [
    "ls drive/Bangla_OCR/"
   ]
  },
  {
   "cell_type": "code",
   "execution_count": null,
   "metadata": {
    "colab": {
     "base_uri": "https://localhost:8080/",
     "height": 287
    },
    "colab_type": "code",
    "executionInfo": {
     "elapsed": 1393,
     "status": "ok",
     "timestamp": 1564545651998,
     "user": {
      "displayName": "Mahim Anzum Haque pantho",
      "photoUrl": "https://lh4.googleusercontent.com/-t-OANPV3UrY/AAAAAAAAAAI/AAAAAAAAJW8/eEwnrZoH7dM/s64/photo.jpg",
      "userId": "07659887497514272211"
     },
     "user_tz": -360
    },
    "id": "RYR1241AUBUI",
    "outputId": "ea63fcc4-056a-452f-a2c0-65502b1413f3"
   },
   "outputs": [],
   "source": [
    "h = 64\n",
    "w = 128\n",
    "a = paint_text('অংশগ্রহণকারিণী',h = h, w = w)\n",
    "print(a.shape)\n",
    "b = a.reshape((h, w))\n",
    "#print(b.shape)\n",
    "plt.imshow(b, cmap='Greys_r')\n",
    "plt.show()\n",
    "\n",
    "c = np.expand_dims(a.T, axis=0)\n",
    "print(c.shape)\n",
    "net_out_value = model_p.predict(c)\n",
    "#print(net_out_value.shape)\n",
    "pred_texts = decode_predict_ctc(net_out_value)\n",
    "pred_texts"
   ]
  },
  {
   "cell_type": "code",
   "execution_count": null,
   "metadata": {
    "colab": {
     "base_uri": "https://localhost:8080/",
     "height": 34
    },
    "colab_type": "code",
    "executionInfo": {
     "elapsed": 1079,
     "status": "ok",
     "timestamp": 1564547143394,
     "user": {
      "displayName": "Mahim Anzum Haque pantho",
      "photoUrl": "https://lh4.googleusercontent.com/-t-OANPV3UrY/AAAAAAAAAAI/AAAAAAAAJW8/eEwnrZoH7dM/s64/photo.jpg",
      "userId": "07659887497514272211"
     },
     "user_tz": -360
    },
    "id": "7UrDK-zEUDhF",
    "outputId": "c612ae51-a3c1-4ac6-b9a9-cc4d19cba8e4"
   },
   "outputs": [],
   "source": [
    "predit_a_image(a, top_paths = 3)"
   ]
  },
  {
   "cell_type": "code",
   "execution_count": null,
   "metadata": {
    "colab": {
     "base_uri": "https://localhost:8080/",
     "height": 269
    },
    "colab_type": "code",
    "executionInfo": {
     "elapsed": 917,
     "status": "ok",
     "timestamp": 1564477789440,
     "user": {
      "displayName": "Mahim Anzum Haque pantho",
      "photoUrl": "https://lh4.googleusercontent.com/-t-OANPV3UrY/AAAAAAAAAAI/AAAAAAAAJW8/eEwnrZoH7dM/s64/photo.jpg",
      "userId": "07659887497514272211"
     },
     "user_tz": -360
    },
    "id": "8x5NdoWgUiDC",
    "outputId": "ca3c6dc3-a0ae-4caf-c5c9-1c7c2fb444a0"
   },
   "outputs": [],
   "source": [
    "plt.imshow(net_out_value[0].T, cmap='binary', interpolation='nearest')\n",
    "plt.show()"
   ]
  },
  {
   "cell_type": "code",
   "execution_count": null,
   "metadata": {
    "colab": {
     "base_uri": "https://localhost:8080/",
     "height": 270
    },
    "colab_type": "code",
    "executionInfo": {
     "elapsed": 1207,
     "status": "ok",
     "timestamp": 1564547484363,
     "user": {
      "displayName": "Mahim Anzum Haque pantho",
      "photoUrl": "https://lh4.googleusercontent.com/-t-OANPV3UrY/AAAAAAAAAAI/AAAAAAAAJW8/eEwnrZoH7dM/s64/photo.jpg",
      "userId": "07659887497514272211"
     },
     "user_tz": -360
    },
    "id": "d98pv6FhUtna",
    "outputId": "c437a1c3-44cd-4af5-d5a8-1c65e263f6e2"
   },
   "outputs": [],
   "source": [
    "#if you just change the paint function with the propper inputs everything else should work just fine  \n",
    "import cv2\n",
    "from PIL import Image, ImageDraw, ImageFont\n",
    "import PIL.ImageOps \n",
    "\n",
    "fonts = ImageFont.truetype(BASE+'SutonnyOMJ.ttf',20, layout_engine=ImageFont.LAYOUT_RAQM)\n",
    "def paint_text(text, w, h, rotate=False, ud=False, multi_fonts=False):\n",
    "    #print(text)\n",
    "    im = Image.new(\"RGB\",(w,h))\n",
    "    draw = ImageDraw.Draw(im)\n",
    "    draw.text((10, 10), text, font=fonts)\n",
    "    #im.show()\n",
    "    inverted_image = PIL.ImageOps.invert(im)\n",
    "    inverted_image = inverted_image.convert('RGB') \n",
    "    open_cv_image = np.array(inverted_image) \n",
    "    open_cv_image = open_cv_image[:, :, ::-1].copy()\n",
    "    a = cv2.cvtColor(open_cv_image, cv2.COLOR_BGR2GRAY)\n",
    "    plt.imshow(a)\n",
    "    plt.show()\n",
    "    print(a.shape)# has to be (64, 128)\n",
    "    a = a.astype(np.float32) / 255\n",
    "    a = np.expand_dims(a, 0)\n",
    "    if rotate:\n",
    "        a = image.random_rotation(a, 3 * (w - top_left_x) / w + 1)\n",
    "    a = speckle(a)\n",
    "    return a\n",
    "img = paint_text(\"দৃষ্টিভঙ্গি\", 128, 64)\n",
    "print(img.shape)\n",
    "print(img.shape)\n",
    "plt.imshow(img[0])\n",
    "plt.show()"
   ]
  },
  {
   "cell_type": "code",
   "execution_count": null,
   "metadata": {
    "colab": {
     "base_uri": "https://localhost:8080/",
     "height": 34
    },
    "colab_type": "code",
    "executionInfo": {
     "elapsed": 694,
     "status": "ok",
     "timestamp": 1564482054605,
     "user": {
      "displayName": "Mahim Anzum Haque pantho",
      "photoUrl": "https://lh4.googleusercontent.com/-t-OANPV3UrY/AAAAAAAAAAI/AAAAAAAAJW8/eEwnrZoH7dM/s64/photo.jpg",
      "userId": "07659887497514272211"
     },
     "user_tz": -360
    },
    "id": "nlpZeWNIXAXA",
    "outputId": "c75f32c9-9576-46ae-c2f2-b19753b2b7c6"
   },
   "outputs": [],
   "source": [
    "print(img.shape)\n",
    "#img = np.array(img) \n",
    "# Convert RGB to BGR \n",
    "#img = img[:, :, ::-1].copy() "
   ]
  },
  {
   "cell_type": "code",
   "execution_count": null,
   "metadata": {
    "colab": {
     "base_uri": "https://localhost:8080/",
     "height": 253
    },
    "colab_type": "code",
    "executionInfo": {
     "elapsed": 1199,
     "status": "ok",
     "timestamp": 1564482064086,
     "user": {
      "displayName": "Mahim Anzum Haque pantho",
      "photoUrl": "https://lh4.googleusercontent.com/-t-OANPV3UrY/AAAAAAAAAAI/AAAAAAAAJW8/eEwnrZoH7dM/s64/photo.jpg",
      "userId": "07659887497514272211"
     },
     "user_tz": -360
    },
    "id": "EcBG4zC9XSXh",
    "outputId": "b9b30756-fa76-4129-9328-8a2fc89b296f"
   },
   "outputs": [],
   "source": [
    "print(img.shape)\n",
    "#img = np.rollaxis(img, 1, 0)\n",
    "#img = np.rollaxis(img, 2, 1)\n",
    "print(img.shape)\n",
    "plt.imshow(img[0])\n",
    "plt.show()"
   ]
  },
  {
   "cell_type": "code",
   "execution_count": null,
   "metadata": {
    "colab": {},
    "colab_type": "code",
    "id": "gaV-4vT-Xm1K"
   },
   "outputs": [],
   "source": []
  }
 ],
 "metadata": {
  "accelerator": "GPU",
  "colab": {
   "collapsed_sections": [],
   "name": "BANGLA_OCR.ipynb",
   "provenance": [],
   "version": "0.3.2"
  },
  "kernelspec": {
   "display_name": "Python 3",
   "language": "python",
   "name": "python3"
  },
  "language_info": {
   "codemirror_mode": {
    "name": "ipython",
    "version": 3
   },
   "file_extension": ".py",
   "mimetype": "text/x-python",
   "name": "python",
   "nbconvert_exporter": "python",
   "pygments_lexer": "ipython3",
   "version": "3.7.3"
  }
 },
 "nbformat": 4,
 "nbformat_minor": 1
}
